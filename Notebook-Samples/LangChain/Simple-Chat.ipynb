{
 "cells": [
  {
   "cell_type": "markdown",
   "metadata": {},
   "source": [
    "https://techcommunity.microsoft.com/t5/startups-at-microsoft/build-a-chatbot-to-query-your-documentation-using-langchain-and/ba-p/3833134\n"
   ]
  },
  {
   "cell_type": "code",
   "execution_count": 1,
   "metadata": {},
   "outputs": [
    {
     "name": "stdout",
     "output_type": "stream",
     "text": [
      "https://apim-dev-eastus-spotgenai.azure-api.net/Spot-Anshu-Dev/\n"
     ]
    }
   ],
   "source": [
    "# Import necessary libraries\n",
    "import openai\n",
    "import tiktoken\n",
    "import dotenv\n",
    "import os\n",
    "from langchain.chat_models import AzureChatOpenAI\n",
    "from langchain.schema import HumanMessage\n",
    "\n",
    "AZURE_OPENAI_API_TYPE = os.environ.get(\"AZURE_OPENAI_API_TYPE\")\n",
    "AZURE_OPENAI_ENDPOINT = os.environ.get(\"AZURE_OPENAI_ENDPOINT\")\n",
    "AZURE_OPENAI_API_KEY = os.environ.get(\"AZURE_OPENAI_API_KEY\")\n",
    "AZURE_OPENAI_CHAT_MODEL = os.environ.get(\"AZURE_OPENAI_CHAT_MODEL\")\n",
    "AZURE_OPENAI_API_VERSION = os.environ.get(\"AZURE_OPENAI_API_VERSION\")\n",
    "print(AZURE_OPENAI_ENDPOINT)\n",
    "\n"
   ]
  },
  {
   "cell_type": "code",
   "execution_count": 2,
   "metadata": {},
   "outputs": [
    {
     "name": "stdout",
     "output_type": "stream",
     "text": [
      "content='Why did the chicken cross the road?\\n\\nTo get to the other side, of course!' additional_kwargs={} example=False\n"
     ]
    }
   ],
   "source": [
    "\n",
    "import os\n",
    "import dotenv\n",
    "\n",
    "from langchain.chat_models import AzureChatOpenAI\n",
    "from langchain.schema import HumanMessage\n",
    "\n",
    "\n",
    "# Create an instance of the AzureChatOpenAI class using Azure OpenAI\n",
    "llm = AzureChatOpenAI(\n",
    "    openai_api_type=AZURE_OPENAI_API_TYPE,\n",
    "    openai_api_key=AZURE_OPENAI_API_KEY,\n",
    "    openai_api_base=AZURE_OPENAI_ENDPOINT,\n",
    "    deployment_name=AZURE_OPENAI_CHAT_MODEL,\n",
    "    temperature=0.1,\n",
    "    openai_api_version=AZURE_OPENAI_API_VERSION\n",
    ")\n",
    "\n",
    "# Testing chat llm  \n",
    "res = llm([HumanMessage(content=\"Tell me a why did the chicken cross the road joke\")])\n",
    "print(res)"
   ]
  }
 ],
 "metadata": {
  "kernelspec": {
   "display_name": "Python 3",
   "language": "python",
   "name": "python3"
  },
  "language_info": {
   "codemirror_mode": {
    "name": "ipython",
    "version": 3
   },
   "file_extension": ".py",
   "mimetype": "text/x-python",
   "name": "python",
   "nbconvert_exporter": "python",
   "pygments_lexer": "ipython3",
   "version": "3.9.2"
  },
  "orig_nbformat": 4
 },
 "nbformat": 4,
 "nbformat_minor": 2
}

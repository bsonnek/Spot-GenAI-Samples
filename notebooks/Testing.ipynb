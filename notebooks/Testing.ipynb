{
 "cells": [
  {
   "cell_type": "code",
   "execution_count": 1,
   "metadata": {},
   "outputs": [
    {
     "name": "stdout",
     "output_type": "stream",
     "text": [
      "https://ai-spotpc-dev.openai.azure.com/\n"
     ]
    }
   ],
   "source": [
    "import streamlit as st\n",
    "from streamlit_chat import message\n",
    "import dotenv\n",
    "import os\n",
    "import openai\n",
    "import datetime\n",
    "import json\n",
    "\n",
    "\n",
    "# Set up the Open AI Client\n",
    "\n",
    "openai.api_type = \"azure\"\n",
    "openai.api_base = os.environ.get(\"AZURE_OPENAI_ENDPOINT\")\n",
    "openai.api_version = os.environ.get(\"AZURE_OPENAI_API_VERSION\")\n",
    "openai.api_key = os.environ.get(\"AZURE_OPENAI_KEY\")\n",
    "Chatengine = \"gpt-35-turbo\"\n",
    "\n",
    "print(openai.api_base)\n",
    "# endregion\n"
   ]
  }
 ],
 "metadata": {
  "kernelspec": {
   "display_name": "Python 3",
   "language": "python",
   "name": "python3"
  },
  "language_info": {
   "codemirror_mode": {
    "name": "ipython",
    "version": 3
   },
   "file_extension": ".py",
   "mimetype": "text/x-python",
   "name": "python",
   "nbconvert_exporter": "python",
   "pygments_lexer": "ipython3",
   "version": "3.9.2"
  },
  "orig_nbformat": 4
 },
 "nbformat": 4,
 "nbformat_minor": 2
}
